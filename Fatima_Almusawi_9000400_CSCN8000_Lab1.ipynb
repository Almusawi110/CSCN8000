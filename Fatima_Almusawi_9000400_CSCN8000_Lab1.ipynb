{
 "cells": [
  {
   "cell_type": "markdown",
   "metadata": {},
   "source": [
    "# CSCN8000 – Artificial Intelligence Algorithms and Mathematics\n",
    "\n",
    "## Lab 1, Liner Algebra"
   ]
  },
  {
   "cell_type": "markdown",
   "metadata": {},
   "source": [
    "### Part A\n",
    "\n",
    "**1-an array that starts from the integer 1, ends at 20, incremented by 3.**"
   ]
  },
  {
   "cell_type": "code",
   "execution_count": 257,
   "metadata": {},
   "outputs": [
    {
     "name": "stdout",
     "output_type": "stream",
     "text": [
      "[ 1  4  7 10 13 16 19]\n"
     ]
    }
   ],
   "source": [
    "import numpy as np\n",
    "a=np.arange(1,20,3)\n",
    "print (a)"
   ]
  },
  {
   "cell_type": "markdown",
   "metadata": {},
   "source": [
    "**2-Creating a new array of shape 3 with random numbers between 0 and 1.**"
   ]
  },
  {
   "cell_type": "code",
   "execution_count": 258,
   "metadata": {},
   "outputs": [
    {
     "name": "stdout",
     "output_type": "stream",
     "text": [
      "[0.3756595  0.47327965 0.12387546]\n"
     ]
    }
   ],
   "source": [
    "a=np.random.rand(3)\n",
    "print(a)"
   ]
  },
  {
   "cell_type": "markdown",
   "metadata": {},
   "source": [
    "**3-Create a 2 D array [[10,20,45],[30,12,16],[42,17,56]] and perform the following operations\n",
    "Slice the 2D array to get the first two rows, slice the 2D array to get the last two rows:**"
   ]
  },
  {
   "cell_type": "code",
   "execution_count": 259,
   "metadata": {},
   "outputs": [
    {
     "name": "stdout",
     "output_type": "stream",
     "text": [
      "[[10 20 45]\n",
      " [30 12 16]]\n",
      "[[30 12 16]\n",
      " [42 17 56]]\n"
     ]
    }
   ],
   "source": [
    "b=np.array([[10,20,45],[30,12,16],[42,17,56]] )\n",
    "print (b[0:2,:])       #slicing to get first 2 rows\n",
    "print (b[1:3,:])         #slicing to get first 2 rows\n"
   ]
  },
  {
   "cell_type": "markdown",
   "metadata": {},
   "source": [
    "**4-Creating two 2x2 arrays and demonstrating to stack the elements vertically, horizontally, and split the arrays into smaller arrays.**"
   ]
  },
  {
   "cell_type": "code",
   "execution_count": 260,
   "metadata": {},
   "outputs": [
    {
     "name": "stdout",
     "output_type": "stream",
     "text": [
      "[[1 2]\n",
      " [3 4]\n",
      " [4 5]\n",
      " [6 4]]\n",
      "[[1 2 4 5]\n",
      " [3 4 6 4]]\n",
      "[array([[1, 2],\n",
      "       [3, 4]]), array([[4, 5],\n",
      "       [6, 4]])]\n",
      "[array([[1, 2],\n",
      "       [3, 4]]), array([[4, 5],\n",
      "       [6, 4]])]\n"
     ]
    }
   ],
   "source": [
    "a=np.array([[1,2],[3,4]])\n",
    "b=np.array([[4,5],[6,4]])\n",
    "vertically_stack=np.vstack((a,b))\n",
    "horizontally_stack=np.hstack((a,b))\n",
    "print(vertically_stack)\n",
    "print(horizontally_stack)\n",
    "vertically_split=np.vsplit(vertically_stack,2)\n",
    "horizontally_split=np.hsplit(horizontally_stack,2)\n",
    "print(vertically_split)\n",
    "print(horizontally_split)"
   ]
  },
  {
   "cell_type": "markdown",
   "metadata": {},
   "source": [
    "**5:Multiply Matrices:**\n",
    "for mutiply matrices the number of columns in the first matrix (X) should be equal to the number of rows in the second matrix(y). in this question x:(3,3) and y:(3,2).so Is it possible to multiply them"
   ]
  },
  {
   "cell_type": "code",
   "execution_count": 261,
   "metadata": {},
   "outputs": [
    {
     "name": "stdout",
     "output_type": "stream",
     "text": [
      "[[5 7 2]\n",
      " [4 5 6]\n",
      " [7 4 2]]\n",
      "[[4 2]\n",
      " [6 2]\n",
      " [4 2]]\n",
      "[[70 28]\n",
      " [70 30]\n",
      " [60 26]]\n"
     ]
    }
   ],
   "source": [
    "x= np.array([[5,7,2],[4,5,6],[7,4 ,2]])\n",
    "y= np.array ([[4,2],[6,2],[4,2]])\n",
    "print(x)\n",
    "print(y)\n",
    "z=np.dot(x,y)\n",
    "print(z)"
   ]
  },
  {
   "cell_type": "markdown",
   "metadata": {},
   "source": [
    "Example of matrices that can't be muliplied:"
   ]
  },
  {
   "cell_type": "code",
   "execution_count": 262,
   "metadata": {},
   "outputs": [],
   "source": [
    "# x= np.array([[5,7,2],[4,5,6],[7,4 ,2]])\n",
    "# y= np.array ([[4,2,4],[6,2,4],])\n",
    "# print(x)\n",
    "# print(y)\n",
    "# z=np.dot(x,y)\n",
    "# print(z)"
   ]
  },
  {
   "cell_type": "code",
   "execution_count": 4,
   "metadata": {},
   "outputs": [
    {
     "name": "stdout",
     "output_type": "stream",
     "text": [
      "the shape of array x is:  (3,)\n",
      "the dimention of vector x is:  1\n"
     ]
    }
   ],
   "source": [
    "import numpy as np\n",
    "x1 =np.array([2,-1,-8])\n",
    "y1 =np.array ([3,1,-2])\n",
    "\n",
    "print(\"the shape of array x is: \",np.shape(x1))   \n",
    "print(\"the dimention of vector x is: \",np.ndim(x1))  \n",
    "\n",
    " "
   ]
  },
  {
   "cell_type": "markdown",
   "metadata": {},
   "source": [
    "**Reshape the vector x to a matrix of size (3,1) and determine the number of dimensions after reshaping y to a matrix of (3,1).**"
   ]
  },
  {
   "cell_type": "code",
   "execution_count": 264,
   "metadata": {},
   "outputs": [
    {
     "name": "stdout",
     "output_type": "stream",
     "text": [
      "Reshaped x matrix:\n",
      "[[ 2]\n",
      " [-1]\n",
      " [-8]]\n",
      "Number of dimensions after reshaping x: 2\n",
      "\n",
      "Reshaped y matrix:\n",
      "[[ 3]\n",
      " [ 1]\n",
      " [-2]]\n",
      "Number of dimensions after reshaping y: 2\n"
     ]
    }
   ],
   "source": [
    "import numpy as np\n",
    "\n",
    "x = np.array([2, -1, -8])\n",
    "y = np.array([3, 1, -2])\n",
    "\n",
    "# Reshape x to a matrix of size (3,1)\n",
    "x_reshaped = x.reshape((3, 1))\n",
    "\n",
    "# Reshape y to a matrix of size (3,1)\n",
    "y_reshaped = y.reshape((3, 1))\n",
    "\n",
    "# Find the number of dimensions after reshaping\n",
    "dimensions_x_reshaped = x_reshaped.ndim\n",
    "dimensions_y_reshaped = y_reshaped.ndim\n",
    "\n",
    "print(\"Reshaped x matrix:\")\n",
    "print(x_reshaped)\n",
    "print(\"Number of dimensions after reshaping x:\", dimensions_x_reshaped)\n",
    "\n",
    "print(\"\\nReshaped y matrix:\")\n",
    "print(y_reshaped)\n",
    "print(\"Number of dimensions after reshaping y:\", dimensions_y_reshaped)\n"
   ]
  },
  {
   "cell_type": "markdown",
   "metadata": {},
   "source": [
    "**7_How does broadcasting work?** broadcasting means the way that NumPy deals with arrays during operations.he smaller array is “broadcast” across the larger array so that they have compatible shapes."
   ]
  },
  {
   "cell_type": "code",
   "execution_count": 265,
   "metadata": {},
   "outputs": [
    {
     "name": "stdout",
     "output_type": "stream",
     "text": [
      "[[-4 -3 -2]\n",
      " [-1  0  1]\n",
      " [ 2  3  4]]\n",
      "[[ 2  4  6]\n",
      " [ 8 10 12]\n",
      " [14 16 18]]\n"
     ]
    }
   ],
   "source": [
    "x = np.array([[1, 2, 3],\n",
    "                   [4, 5, 6],\n",
    "                   [7, 8, 9]])\n",
    "multiplication_x=x* 2\n",
    "subtraction_x=x-5\n",
    "print(subtraction_x)\n",
    "print(multiplication_x)"
   ]
  },
  {
   "cell_type": "markdown",
   "metadata": {},
   "source": [
    "### Part B- Linear Equations\n",
    "**Part B.1**\n",
    "the system below is nonsingular because:\n",
    "1:if we calculate the determinant will *not* equal to zero\n",
    "2: it does not have depended rows\n",
    "so in this case we can find a solution and it is a nonsingular"
   ]
  },
  {
   "cell_type": "code",
   "execution_count": 266,
   "metadata": {},
   "outputs": [
    {
     "name": "stdout",
     "output_type": "stream",
     "text": [
      "[[ 4  1 -2]\n",
      " [ 2 -3  2]\n",
      " [ 1  2  3]]\n",
      "[ 1.8  2.4 -0.2]\n"
     ]
    },
    {
     "data": {
      "text/plain": [
       "False"
      ]
     },
     "execution_count": 266,
     "metadata": {},
     "output_type": "execute_result"
    }
   ],
   "source": [
    "A=np.array([[4,1,-2],[2,-3,2],[1,2,3]])\n",
    "print(A)\n",
    "b=np.array([10,-4,6])\n",
    "G=np.linalg.solve(A,b)\n",
    "print(G)\n",
    "\n",
    "#to check if the solution is correct,we can try this code \n",
    "np.allclose(np.dot(A,x),b)"
   ]
  },
  {
   "cell_type": "markdown",
   "metadata": {},
   "source": [
    "**Part B- Linear Equations**\n",
    "Part B.2:\n",
    "\n",
    "the system below is singular because:\n",
    "the first 2 rows are depended,so in this situation we know that there are no solution for these system.trying to sove this with numpy,will give us error as shown below:"
   ]
  },
  {
   "cell_type": "code",
   "execution_count": 267,
   "metadata": {},
   "outputs": [
    {
     "name": "stdout",
     "output_type": "stream",
     "text": [
      "[[ 2 -1  3  4]\n",
      " [ 4 -2  6  8]\n",
      " [ 3  1 -2  2]\n",
      " [ 1  3 -4  1]]\n"
     ]
    },
    {
     "ename": "LinAlgError",
     "evalue": "Singular matrix",
     "output_type": "error",
     "traceback": [
      "\u001b[1;31m---------------------------------------------------------------------------\u001b[0m",
      "\u001b[1;31mLinAlgError\u001b[0m                               Traceback (most recent call last)",
      "Cell \u001b[1;32mIn[267], line 4\u001b[0m\n\u001b[0;32m      2\u001b[0m \u001b[38;5;28mprint\u001b[39m(S)\n\u001b[0;32m      3\u001b[0m B\u001b[38;5;241m=\u001b[39mnp\u001b[38;5;241m.\u001b[39marray([\u001b[38;5;241m10\u001b[39m,\u001b[38;5;241m20\u001b[39m,\u001b[38;5;241m3\u001b[39m,\u001b[38;5;241m-\u001b[39m\u001b[38;5;241m1\u001b[39m])\n\u001b[1;32m----> 4\u001b[0m C\u001b[38;5;241m=\u001b[39m\u001b[43mnp\u001b[49m\u001b[38;5;241;43m.\u001b[39;49m\u001b[43mlinalg\u001b[49m\u001b[38;5;241;43m.\u001b[39;49m\u001b[43msolve\u001b[49m\u001b[43m(\u001b[49m\u001b[43mS\u001b[49m\u001b[43m,\u001b[49m\u001b[43mB\u001b[49m\u001b[43m)\u001b[49m\n\u001b[0;32m      5\u001b[0m \u001b[38;5;28mprint\u001b[39m(C)\n",
      "File \u001b[1;32mc:\\Users\\marya\\Documents\\Courses\\Cscn8010\\class_Notbook\\venv\\CSCN8010_classic_ml\\Lib\\site-packages\\numpy\\linalg\\linalg.py:409\u001b[0m, in \u001b[0;36msolve\u001b[1;34m(a, b)\u001b[0m\n\u001b[0;32m    407\u001b[0m signature \u001b[38;5;241m=\u001b[39m \u001b[38;5;124m'\u001b[39m\u001b[38;5;124mDD->D\u001b[39m\u001b[38;5;124m'\u001b[39m \u001b[38;5;28;01mif\u001b[39;00m isComplexType(t) \u001b[38;5;28;01melse\u001b[39;00m \u001b[38;5;124m'\u001b[39m\u001b[38;5;124mdd->d\u001b[39m\u001b[38;5;124m'\u001b[39m\n\u001b[0;32m    408\u001b[0m extobj \u001b[38;5;241m=\u001b[39m get_linalg_error_extobj(_raise_linalgerror_singular)\n\u001b[1;32m--> 409\u001b[0m r \u001b[38;5;241m=\u001b[39m \u001b[43mgufunc\u001b[49m\u001b[43m(\u001b[49m\u001b[43ma\u001b[49m\u001b[43m,\u001b[49m\u001b[43m \u001b[49m\u001b[43mb\u001b[49m\u001b[43m,\u001b[49m\u001b[43m \u001b[49m\u001b[43msignature\u001b[49m\u001b[38;5;241;43m=\u001b[39;49m\u001b[43msignature\u001b[49m\u001b[43m,\u001b[49m\u001b[43m \u001b[49m\u001b[43mextobj\u001b[49m\u001b[38;5;241;43m=\u001b[39;49m\u001b[43mextobj\u001b[49m\u001b[43m)\u001b[49m\n\u001b[0;32m    411\u001b[0m \u001b[38;5;28;01mreturn\u001b[39;00m wrap(r\u001b[38;5;241m.\u001b[39mastype(result_t, copy\u001b[38;5;241m=\u001b[39m\u001b[38;5;28;01mFalse\u001b[39;00m))\n",
      "File \u001b[1;32mc:\\Users\\marya\\Documents\\Courses\\Cscn8010\\class_Notbook\\venv\\CSCN8010_classic_ml\\Lib\\site-packages\\numpy\\linalg\\linalg.py:112\u001b[0m, in \u001b[0;36m_raise_linalgerror_singular\u001b[1;34m(err, flag)\u001b[0m\n\u001b[0;32m    111\u001b[0m \u001b[38;5;28;01mdef\u001b[39;00m \u001b[38;5;21m_raise_linalgerror_singular\u001b[39m(err, flag):\n\u001b[1;32m--> 112\u001b[0m     \u001b[38;5;28;01mraise\u001b[39;00m LinAlgError(\u001b[38;5;124m\"\u001b[39m\u001b[38;5;124mSingular matrix\u001b[39m\u001b[38;5;124m\"\u001b[39m)\n",
      "\u001b[1;31mLinAlgError\u001b[0m: Singular matrix"
     ]
    }
   ],
   "source": [
    "S=np.array([[2,-1,3,4],[4,-2,6,8],[3,1,-2,2],[1,3,-4,1]])\n",
    "print(S)\n",
    "B=np.array([10,20,3,-1])\n",
    "C=np.linalg.solve(S,B)\n",
    "print(C)"
   ]
  }
 ],
 "metadata": {
  "kernelspec": {
   "display_name": "CSCN8010_classic_ml",
   "language": "python",
   "name": "cscn8010_classic_ml"
  },
  "language_info": {
   "codemirror_mode": {
    "name": "ipython",
    "version": 3
   },
   "file_extension": ".py",
   "mimetype": "text/x-python",
   "name": "python",
   "nbconvert_exporter": "python",
   "pygments_lexer": "ipython3",
   "version": "3.11.7"
  }
 },
 "nbformat": 4,
 "nbformat_minor": 2
}
