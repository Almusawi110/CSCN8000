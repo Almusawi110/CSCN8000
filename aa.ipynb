{
 "cells": [
  {
   "cell_type": "code",
   "execution_count": 54,
   "metadata": {},
   "outputs": [
    {
     "data": {
      "text/plain": [
       "'fatima Musawi'"
      ]
     },
     "execution_count": 54,
     "metadata": {},
     "output_type": "execute_result"
    }
   ],
   "source": [
    "fullName =lambda Fname,Lname:f'{Fname} {Lname}' \n",
    "fullName(\"fatima\",\"Musawi\")"
   ]
  },
  {
   "cell_type": "code",
   "execution_count": 55,
   "metadata": {},
   "outputs": [
    {
     "name": "stdout",
     "output_type": "stream",
     "text": [
      "[ 0  1  2  3  4  5  6  7  8  9 10]\n",
      "[ 1  2 34  4]\n",
      "[[1 2 3]\n",
      " [4 5 6]] (2, 3)\n",
      "[[[[[1 2]]]]]\n"
     ]
    }
   ],
   "source": [
    "import numpy as np\n",
    "array1=np.arange(0,11,1)\n",
    "print(array1)\n",
    "pyhton_list=[1,2,34,4]\n",
    "array2=np.array(pyhton_list)\n",
    "print (array2)\n",
    "arr2d=np.array([[1,2,3],[4,5,6]])\n",
    "print(arr2d,arr2d.shape)\n",
    "listtemp=[1,2]\n",
    "arr5d=np.array(listtemp,ndmin=5)\n",
    "print(arr5d)\n",
    "a=np.concatenate((array1,array2))\n"
   ]
  },
  {
   "cell_type": "code",
   "execution_count": 56,
   "metadata": {},
   "outputs": [
    {
     "name": "stdout",
     "output_type": "stream",
     "text": [
      "0    1.0\n",
      "1    2.0\n",
      "2    NaN\n",
      "3    3.0\n",
      "dtype: float64\n",
      "DatetimeIndex(['2023-08-31', '2023-09-30', '2023-10-31', '2023-11-30'], dtype='datetime64[ns]', freq='M')\n"
     ]
    }
   ],
   "source": [
    "import pandas as pd\n",
    "createpdserias=pd.Series([1,2,np.nan,3])\n",
    "print(createpdserias)\n",
    "#pd date range\n",
    "print(pd.date_range(\"08/01/2023\",\"12/09/2023\",freq=\"m\"))\n",
    "#print(pd.date_range(\"08/01/2023\",\"12/09/2023\",periods=\"6\"))\n",
    "\n"
   ]
  },
  {
   "cell_type": "code",
   "execution_count": null,
   "metadata": {},
   "outputs": [],
   "source": [
    "nparrayOfFruits=[\"banana\",5,7],\n",
    "                 [\"apple\",3,4],\n",
    "                 [[\"strow\",3,4]]\n",
    "frutes=pd.DataFrame(npArrayOfData, index=“index column or\n",
    "values”, columns=“List of column names”)\n",
    "                 "
   ]
  }
 ],
 "metadata": {
  "kernelspec": {
   "display_name": "CSCN8010_classic_ml",
   "language": "python",
   "name": "cscn8010_classic_ml"
  },
  "language_info": {
   "codemirror_mode": {
    "name": "ipython",
    "version": 3
   },
   "file_extension": ".py",
   "mimetype": "text/x-python",
   "name": "python",
   "nbconvert_exporter": "python",
   "pygments_lexer": "ipython3",
   "version": "3.11.7"
  }
 },
 "nbformat": 4,
 "nbformat_minor": 2
}
